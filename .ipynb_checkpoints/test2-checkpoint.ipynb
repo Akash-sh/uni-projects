{
 "cells": [
  {
   "cell_type": "code",
   "execution_count": null,
   "id": "5cbd3f6b-e9da-43f6-b2e0-81019a6df112",
   "metadata": {},
   "outputs": [],
   "source": [
    "print(\"Hello Gerti\")"
   ]
  }
 ],
 "metadata": {
  "kernelspec": {
   "display_name": "Python 3 (ipykernel)",
   "language": "python",
   "name": "python3"
  },
  "language_info": {
   "codemirror_mode": {
    "name": "ipython",
    "version": 3
   },
   "file_extension": ".py",
   "mimetype": "text/x-python",
   "name": "python",
   "nbconvert_exporter": "python",
   "pygments_lexer": "ipython3",
   "version": "3.9.12"
  }
 },
 "nbformat": 4,
 "nbformat_minor": 5
}
